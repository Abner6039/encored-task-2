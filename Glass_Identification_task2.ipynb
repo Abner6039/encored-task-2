{
  "nbformat": 4,
  "nbformat_minor": 0,
  "metadata": {
    "colab": {
      "provenance": []
    },
    "kernelspec": {
      "name": "python3",
      "display_name": "Python 3"
    },
    "language_info": {
      "name": "python"
    }
  },
  "cells": [
    {
      "cell_type": "code",
      "execution_count": null,
      "metadata": {
        "colab": {
          "base_uri": "https://localhost:8080/"
        },
        "id": "iFEPnxLrF6U7",
        "outputId": "c5c474ff-c410-4375-b631-327f0a781cf9"
      },
      "outputs": [
        {
          "output_type": "stream",
          "name": "stdout",
          "text": [
            "Predictions: [0, 0]\n"
          ]
        }
      ],
      "source": [
        "import numpy as np\n",
        "\n",
        "class KNNClassifier:\n",
        "    def __init__(self, k=3):\n",
        "        self.k = k\n",
        "\n",
        "    def fit(self, X_train, y_train):\n",
        "        self.X_train = X_train\n",
        "        self.y_train = y_train\n",
        "\n",
        "    def predict(self, X_test):\n",
        "        predictions = []\n",
        "        for x in X_test:\n",
        "            distances = [np.linalg.norm(x - x_train) for x_train in self.X_train]\n",
        "            nearest_indices = np.argsort(distances)[:self.k]\n",
        "            nearest_labels = [self.y_train[i] for i in nearest_indices]\n",
        "            predicted_label = max(set(nearest_labels), key=nearest_labels.count)\n",
        "            predictions.append(predicted_label)\n",
        "        return predictions\n",
        "\n",
        "# Example usage:\n",
        "X_train = np.array([[1, 2], [2, 3], [3, 4], [4, 5]])\n",
        "y_train = np.array([0, 0, 1, 1])\n",
        "X_test = np.array([[3, 3], [1, 1]])\n",
        "\n",
        "knn_classifier = KNNClassifier(k=3)\n",
        "knn_classifier.fit(X_train, y_train)\n",
        "predictions = knn_classifier.predict(X_test)\n",
        "print(\"Predictions:\", predictions)\n"
      ]
    }
  ]
}