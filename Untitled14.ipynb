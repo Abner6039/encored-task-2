{
  "nbformat": 4,
  "nbformat_minor": 0,
  "metadata": {
    "colab": {
      "provenance": [],
      "authorship_tag": "ABX9TyPMOf3WhOTiJ0MIRiXZFAwM",
      "include_colab_link": true
    },
    "kernelspec": {
      "name": "python3",
      "display_name": "Python 3"
    },
    "language_info": {
      "name": "python"
    }
  },
  "cells": [
    {
      "cell_type": "markdown",
      "metadata": {
        "id": "view-in-github",
        "colab_type": "text"
      },
      "source": [
        "<a href=\"https://colab.research.google.com/github/Abner6039/encored-task-2/blob/main/Untitled14.ipynb\" target=\"_parent\"><img src=\"https://colab.research.google.com/assets/colab-badge.svg\" alt=\"Open In Colab\"/></a>"
      ]
    },
    {
      "cell_type": "code",
      "execution_count": 1,
      "metadata": {
        "colab": {
          "base_uri": "https://localhost:8080/"
        },
        "id": "IfBUseXwWe66",
        "outputId": "736f82ce-e2e1-402b-ab71-394245329e54"
      },
      "outputs": [
        {
          "output_type": "stream",
          "name": "stderr",
          "text": [
            "/usr/local/lib/python3.10/dist-packages/sklearn/datasets/_openml.py:968: FutureWarning: The default value of `parser` will change from `'liac-arff'` to `'auto'` in 1.4. You can set `parser='auto'` to silence this warning. Therefore, an `ImportError` will be raised from 1.4 if the dataset is dense and pandas is not installed. Note that the pandas parser may return different data types. See the Notes Section in fetch_openml's API doc for details.\n",
            "  warn(\n"
          ]
        },
        {
          "output_type": "stream",
          "name": "stdout",
          "text": [
            "Stacking Classifier Accuracy: 0.971\n"
          ]
        },
        {
          "output_type": "stream",
          "name": "stderr",
          "text": [
            "/usr/local/lib/python3.10/dist-packages/sklearn/ensemble/_base.py:166: FutureWarning: `base_estimator` was renamed to `estimator` in version 1.2 and will be removed in 1.4.\n",
            "  warnings.warn(\n"
          ]
        },
        {
          "output_type": "stream",
          "name": "stdout",
          "text": [
            "Boosting Classifier Accuracy: 0.9671428571428572\n"
          ]
        }
      ],
      "source": [
        "import numpy as np\n",
        "from sklearn.datasets import fetch_openml\n",
        "from sklearn.model_selection import train_test_split\n",
        "from sklearn.ensemble import StackingClassifier, RandomForestClassifier, AdaBoostClassifier\n",
        "from sklearn.metrics import accuracy_score\n",
        "\n",
        "# Load the MNIST dataset\n",
        "mnist = fetch_openml('mnist_784', version=1)\n",
        "X, y = mnist.data, mnist.target.astype(int)\n",
        "\n",
        "# Split the dataset into training and testing sets\n",
        "X_train, X_test, y_train, y_test = train_test_split(X, y, test_size=0.2, random_state=42)\n",
        "\n",
        "# Define base classifiers\n",
        "base_classifiers = [\n",
        "    ('random_forest', RandomForestClassifier(n_estimators=100, random_state=42)),\n",
        "    ('ada_boost', AdaBoostClassifier(n_estimators=100, random_state=42))\n",
        "]\n",
        "\n",
        "# Create a stacking classifier\n",
        "stacking_classifier = StackingClassifier(estimators=base_classifiers, final_estimator=RandomForestClassifier(n_estimators=100, random_state=42))\n",
        "\n",
        "# Train the stacking classifier\n",
        "stacking_classifier.fit(X_train, y_train)\n",
        "\n",
        "# Predict using the trained stacking classifier\n",
        "stacking_predictions = stacking_classifier.predict(X_test)\n",
        "\n",
        "# Calculate accuracy\n",
        "stacking_accuracy = accuracy_score(y_test, stacking_predictions)\n",
        "print(\"Stacking Classifier Accuracy:\", stacking_accuracy)\n",
        "\n",
        "# Create an AdaBoost classifier\n",
        "boosting_classifier = AdaBoostClassifier(base_estimator=RandomForestClassifier(n_estimators=100, random_state=42), n_estimators=100, random_state=42)\n",
        "\n",
        "# Train the boosting classifier\n",
        "boosting_classifier.fit(X_train, y_train)\n",
        "\n",
        "# Predict using the trained boosting classifier\n",
        "boosting_predictions = boosting_classifier.predict(X_test)\n",
        "\n",
        "# Calculate accuracy\n",
        "boosting_accuracy = accuracy_score(y_test, boosting_predictions)\n",
        "print(\"Boosting Classifier Accuracy:\", boosting_accuracy)\n"
      ]
    }
  ]
}